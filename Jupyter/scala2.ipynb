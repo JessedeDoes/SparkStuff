{
 "cells": [
  {
   "cell_type": "code",
   "execution_count": 2,
   "metadata": {},
   "outputs": [
    {
     "data": {
      "text/plain": [
       "defined \u001b[32mobject\u001b[39m \u001b[36mo\u001b[39m"
      ]
     },
     "execution_count": 2,
     "metadata": {},
     "output_type": "execute_result"
    }
   ],
   "source": [
    "object o\n",
    "{\n",
    "    case class State(inQuotes: Boolean, prevChar: Char, word: String, line: List[String])\n",
    "    val separator: Char = '\\t'\n",
    "    val quote: Char = \"\\\"\"(1)\n",
    "    \n",
    "    def nextState(s: State, c: Char):State = \n",
    "    {\n",
    "        (inQuotes, prevChar, c) match\n",
    "        {\n",
    "            case (true, quote) => State(false, c)\n",
    "            case (true, separator) => State(true, c)\n",
    "        }\n",
    "    }\n",
    "}"
   ]
  },
  {
   "cell_type": "code",
   "execution_count": null,
   "metadata": {
    "collapsed": true
   },
   "outputs": [],
   "source": []
  }
 ],
 "metadata": {
  "kernelspec": {
   "display_name": "Scala",
   "language": "scala",
   "name": "scala"
  },
  "language_info": {
   "codemirror_mode": "text/x-scala",
   "file_extension": ".scala",
   "mimetype": "text/x-scala",
   "name": "scala211",
   "nbconvert_exporter": "script",
   "pygments_lexer": "scala",
   "version": "2.11.11"
  }
 },
 "nbformat": 4,
 "nbformat_minor": 2
}
