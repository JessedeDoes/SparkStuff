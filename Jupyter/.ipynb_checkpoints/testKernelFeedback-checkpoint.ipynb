{
 "cells": [
  {
   "cell_type": "raw",
   "metadata": {},
   "source": [
    "import jupyter.scala._"
   ]
  },
  {
   "cell_type": "code",
   "execution_count": 37,
   "metadata": {},
   "outputs": [
    {
     "data": {
      "text/plain": [
       "\u001b[36mx\u001b[39m: \u001b[32mString\u001b[39m = \u001b[32m\"\"\"\n",
       " \n",
       "var kernel = IPython.notebook.kernel;\n",
       "kernel.execute('val dinges=\"dattes\"')\n",
       "\n",
       "\"\"\"\u001b[39m"
      ]
     },
     "execution_count": 37,
     "metadata": {},
     "output_type": "execute_result"
    }
   ],
   "source": [
    "val x = \"\"\" \n",
    "var kernel = IPython.notebook.kernel;\n",
    "kernel.execute('val dinges=\"dattes\"')\n",
    "\"\"\""
   ]
  },
  {
   "cell_type": "code",
   "execution_count": 38,
   "metadata": {},
   "outputs": [
    {
     "data": {
      "application/javascript": [
       " \n",
       "var kernel = IPython.notebook.kernel;\n",
       "kernel.execute('val dinges=\"dattes\"')\n"
      ]
     },
     "metadata": {},
     "output_type": "display_data"
    }
   ],
   "source": [
    "publish.js(x)"
   ]
  },
  {
   "cell_type": "code",
   "execution_count": 40,
   "metadata": {},
   "outputs": [
    {
     "data": {
      "text/plain": [
       "\u001b[36mres39\u001b[39m: \u001b[32mString\u001b[39m = \u001b[32m\"dattes\"\u001b[39m"
      ]
     },
     "execution_count": 40,
     "metadata": {},
     "output_type": "execute_result"
    }
   ],
   "source": [
    "dinges"
   ]
  },
  {
   "cell_type": "code",
   "execution_count": 41,
   "metadata": {},
   "outputs": [
    {
     "data": {
      "text/plain": [
       "\u001b[32mimport \u001b[39m\u001b[36mscala.xml._\n",
       "\u001b[39m\n",
       "\u001b[36mtable\u001b[39m: \u001b[32mElem\u001b[39m = \u001b[33mElem\u001b[39m(\n",
       "  <table>\n",
       "<tr><td>0</td><td>0</td></tr><tr><td>1</td><td>1</td></tr><tr><td>2</td><td>4</td></tr><tr><td>3</td><td>9</td></tr><tr><td>4</td><td>16</td></tr><tr><td>5</td><td>25</td></tr><tr><td>6</td><td>36</td></tr><tr><td>7</td><td>49</td></tr><tr><td>8</td><td>64</td></tr><tr><td>9</td><td>81</td></tr><tr><td>10</td><td>100</td></tr>\n",
       "</table>\n",
       ")"
      ]
     },
     "execution_count": 41,
     "metadata": {},
     "output_type": "execute_result"
    }
   ],
   "source": [
    "import scala.xml._\n",
    "val table = <table>\n",
    "{(0 to 10).map(n => <tr><td>{n}</td><td>{n*n}</td></tr>) }\n",
    "</table>\n"
   ]
  },
  {
   "cell_type": "code",
   "execution_count": 42,
   "metadata": {},
   "outputs": [
    {
     "data": {
      "text/html": [
       "<table>\n",
       "<tr><td>0</td><td>0</td></tr><tr><td>1</td><td>1</td></tr><tr><td>2</td><td>4</td></tr><tr><td>3</td><td>9</td></tr><tr><td>4</td><td>16</td></tr><tr><td>5</td><td>25</td></tr><tr><td>6</td><td>36</td></tr><tr><td>7</td><td>49</td></tr><tr><td>8</td><td>64</td></tr><tr><td>9</td><td>81</td></tr><tr><td>10</td><td>100</td></tr>\n",
       "</table>"
      ]
     },
     "metadata": {},
     "output_type": "display_data"
    }
   ],
   "source": [
    "publish.html(table.toString)"
   ]
  },
  {
   "cell_type": "code",
   "execution_count": null,
   "metadata": {
    "collapsed": true
   },
   "outputs": [],
   "source": []
  }
 ],
 "metadata": {
  "kernelspec": {
   "display_name": "Scala",
   "language": "scala",
   "name": "scala"
  },
  "language_info": {
   "codemirror_mode": "text/x-scala",
   "file_extension": ".scala",
   "mimetype": "text/x-scala",
   "name": "scala211",
   "nbconvert_exporter": "script",
   "pygments_lexer": "scala",
   "version": "2.11.11"
  }
 },
 "nbformat": 4,
 "nbformat_minor": 2
}
